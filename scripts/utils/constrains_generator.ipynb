{
 "cells": [
  {
   "cell_type": "code",
   "execution_count": 1,
   "metadata": {
    "collapsed": true
   },
   "outputs": [],
   "source": [
    "import numpy as np\n",
    "\n",
    "\n",
    "def f_2n(n: int) -> int:\n",
    "    return 2 * n\n",
    "\n",
    "\n",
    "def f_2n2(n: int) -> int:\n",
    "    return 2 * n ** n\n",
    "\n",
    "\n",
    "def f_n3(n: int) -> int:\n",
    "    return np.power(n, 3)\n",
    "\n",
    "\n",
    "def f_2pn(n: int) -> int:\n",
    "    return np.power(2, n)\n",
    "\n",
    "\n",
    "class ConstraintGenerator:\n",
    "    def generate(self, f_name, value):\n",
    "        return {f_2n.__name__: f_2n(value),\n",
    "                f_2n2.__name__: f_2n2(value),\n",
    "                f_n3.__name__: f_n3(value),\n",
    "                f_2pn.__name__: f_2pn(value)}[f_name]"
   ]
  },
  {
   "cell_type": "code",
   "execution_count": 14,
   "metadata": {},
   "outputs": [],
   "source": [
    "class ConstraintGenerator:\n",
    "    def generate(self, f_name, value):\n",
    "        return {f_2n.__name__: f_2n(value),\n",
    "                f_2n2.__name__: f_2n2(value),\n",
    "                f_n3.__name__: f_n3(value),\n",
    "                f_2pn.__name__: f_2pn(value)}[f_name]\n"
   ]
  },
  {
   "cell_type": "code",
   "execution_count": 15,
   "metadata": {},
   "outputs": [
    {
     "data": {
      "text/plain": [
       "8"
      ]
     },
     "execution_count": 15,
     "metadata": {},
     "output_type": "execute_result"
    }
   ],
   "source": [
    "generator = ConstraintGenerator()\n",
    "generator.generate(f_name=f_2n.__name__, value=4)"
   ]
  },
  {
   "cell_type": "code",
   "execution_count": 6,
   "metadata": {},
   "outputs": [],
   "source": []
  },
  {
   "cell_type": "code",
   "execution_count": null,
   "metadata": {},
   "outputs": [],
   "source": []
  }
 ],
 "metadata": {
  "kernelspec": {
   "display_name": "Python 2",
   "language": "python",
   "name": "python2"
  },
  "language_info": {
   "codemirror_mode": {
    "name": "ipython",
    "version": 2
   },
   "file_extension": ".py",
   "mimetype": "text/x-python",
   "name": "python",
   "nbconvert_exporter": "python",
   "pygments_lexer": "ipython2",
   "version": "2.7.6"
  }
 },
 "nbformat": 4,
 "nbformat_minor": 0
}
