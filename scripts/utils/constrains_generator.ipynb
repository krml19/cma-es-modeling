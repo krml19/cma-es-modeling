{
 "cells": [
  {
   "cell_type": "code",
   "execution_count": 1,
   "metadata": {
    "collapsed": true
   },
   "outputs": [],
   "source": [
    "import numpy as np\n",
    "\n",
    "\n",
    "def f_2n(n: int) -> int:\n",
    "    return 2 * n\n",
    "\n",
    "\n",
    "def f_2n2(n: int) -> int:\n",
    "    return 2 * n ** n\n",
    "\n",
    "\n",
    "def f_n3(n: int) -> int:\n",
    "    return np.power(n, 3)\n",
    "\n",
    "\n",
    "def f_2pn(n: int) -> int:\n",
    "    return np.power(2, n)\n",
    "\n",
    "\n",
    "class ConstraintGenerator:\n",
    "    def generate(self, f_name, value):\n",
    "        return {f_2n.__name__: f_2n(value),\n",
    "                f_2n2.__name__: f_2n2(value),\n",
    "                f_n3.__name__: f_n3(value),\n",
    "                f_2pn.__name__: f_2pn(value)}[f_name]"
   ]
  },
  {
   "cell_type": "code",
   "execution_count": 14,
   "metadata": {},
   "outputs": [],
   "source": [
    "class ConstraintGenerator:\n",
    "    def generate(self, f_name, value):\n",
    "        return {f_2n.__name__: f_2n(value),\n",
    "                f_2n2.__name__: f_2n2(value),\n",
    "                f_n3.__name__: f_n3(value),\n",
    "                f_2pn.__name__: f_2pn(value)}[f_name]\n"
   ]
  },
  {
   "cell_type": "code",
   "execution_count": 15,
   "metadata": {},
   "outputs": [
    {
     "data": {
      "text/plain": [
       "8"
      ]
     },
     "execution_count": 15,
     "metadata": {},
     "output_type": "execute_result"
    }
   ],
   "source": [
    "generator = ConstraintGenerator()\n",
    "generator.generate(f_name=f_2n.__name__, value=4)"
   ]
  },
  {
   "cell_type": "code",
   "execution_count": 9,
   "metadata": {},
   "outputs": [
    {
     "name": "stdout",
     "output_type": "stream",
     "text": [
      "1.7742651992586536 0    2.173022\ndtype: float64\n1.7742651992586536 0    1.774265\ndtype: float64\n-1.254594954019095 0   -1.254595\ndtype: float64\n0    2.007733\ndtype: float64 2.0077331879489084\n"
     ]
    }
   ],
   "source": [
    "import pandas as pd\n",
    "import numpy as np\n",
    "import scipy.stats as stats\n",
    "\n",
    "data = np.array([0, 0, -3.763784862057285])\n",
    "df = pd.DataFrame(data=data)\n",
    "\n",
    "z = stats.norm.ppf(q=0.975)\n",
    "# z = 1\n",
    "\n",
    "print(data.std(), df.std())\n",
    "print(data.std(), df.std(ddof=0))\n",
    "print(data.mean(), df.mean())\n",
    "\n",
    "_std_df = df.std(ddof=0) # default ddof = 1\n",
    "_std_np = data.std() # default ddof = 0\n",
    "\n",
    "_mean_df = df.mean()\n",
    "_mean_np = data.mean()\n",
    "\n",
    "_margin_of_error_df = z * _std_df / np.sqrt(df.size)\n",
    "_margin_of_error_np = z * _std_np / np.sqrt(data.size)\n",
    "\n",
    "print(_margin_of_error_df, _margin_of_error_np)"
   ]
  },
  {
   "cell_type": "code",
   "execution_count": null,
   "metadata": {},
   "outputs": [],
   "source": []
  }
 ],
 "metadata": {
  "kernelspec": {
   "display_name": "Python 2",
   "language": "python",
   "name": "python2"
  },
  "language_info": {
   "codemirror_mode": {
    "name": "ipython",
    "version": 2
   },
   "file_extension": ".py",
   "mimetype": "text/x-python",
   "name": "python",
   "nbconvert_exporter": "python",
   "pygments_lexer": "ipython2",
   "version": "2.7.6"
  }
 },
 "nbformat": 4,
 "nbformat_minor": 0
}
