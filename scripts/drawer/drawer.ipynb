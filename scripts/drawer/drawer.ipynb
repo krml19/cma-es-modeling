{
 "cells": [
  {
   "cell_type": "code",
   "execution_count": 9,
   "metadata": {
    "collapsed": true
   },
   "outputs": [],
   "source": [
    "import matplotlib\n",
    "import numpy as np\n",
    "import matplotlib.pyplot as plt\n",
    "from matplotlib.path import Path\n",
    "from matplotlib.patches import PathPatch\n",
    "%matplotlib inline"
   ]
  },
  {
   "cell_type": "code",
   "execution_count": 36,
   "metadata": {},
   "outputs": [],
   "source": [
    "def verts(i, d=2.7):\n",
    "    return [(i, i), (i, i+i*d), (i+i*d, i+i*d), (i+i*d, i), (0, 0)]\n",
    "\n",
    "def verts_codes():\n",
    "    return [Path.MOVETO] + [Path.LINETO]*3 + [Path.CLOSEPOLY]"
   ]
  },
  {
   "cell_type": "code",
   "execution_count": 40,
   "metadata": {},
   "outputs": [
    {
     "data": {
      "image/png": "[encoded data removed]",
      "text/plain": [
       "<matplotlib.figure.Figure at 0x10a70a278>"
      ]
     },
     "metadata": {},
     "output_type": "display_data"
    }
   ],
   "source": [
    "x = [1, 3.7]\n",
    "codes = verts_codes()\n",
    "vertices = verts(1)\n",
    "\n",
    "codes += verts_codes()\n",
    "vertices += verts(2)\n",
    "\n",
    "codes += verts_codes()\n",
    "vertices += verts(3)\n",
    "\n",
    "codes += verts_codes()\n",
    "vertices += verts(4)\n",
    "\n",
    "vertices = np.array(vertices, float)\n",
    "path = Path(vertices, codes)\n",
    "\n",
    "pathpatch = PathPatch(path, facecolor='None', edgecolor='green')\n",
    "\n",
    "fig, ax = plt.subplots()\n",
    "ax.add_patch(pathpatch)\n",
    "ax.set_title('A compound path')\n",
    "\n",
    "ax.dataLim.update_from_data_xy(vertices)\n",
    "ax.autoscale_view()\n",
    "\n",
    "\n",
    "plt.show()"
   ]
  },
  {
   "cell_type": "code",
   "execution_count": 35,
   "metadata": {},
   "outputs": [
    {
     "data": {
      "text/plain": [
       "[1, 2, 2, 2, 79, 1, 2, 2, 2, 79]"
      ]
     },
     "execution_count": 35,
     "metadata": {},
     "output_type": "execute_result"
    }
   ],
   "source": [
    "codes = verts_codes()\n",
    "vertices = verts(1)\n",
    "\n",
    "codes += verts_codes()\n",
    "vertices += verts(2)\n",
    "# vertices\n",
    "codes"
   ]
  },
  {
   "cell_type": "code",
   "execution_count": 5,
   "metadata": {},
   "outputs": [
    {
     "data": {
      "text/plain": [
       "array([0, 2, 4, 6, 8])"
      ]
     },
     "execution_count": 5,
     "metadata": {},
     "output_type": "execute_result"
    }
   ],
   "source": [
    "import numpy as np\n",
    "aranged = np.arange(5)\n",
    "# aranged.vectorize(lambda i: i+1)\n",
    "vfunc = np.vectorize(lambda i: i*2)\n",
    "vfunc(aranged)"
   ]
  },
  {
   "cell_type": "code",
   "execution_count": 7,
   "metadata": {},
   "outputs": [],
   "source": [
    "def _calculate(i: int, expression: callable):\n",
    "    assert callable(expression)\n",
    "    assert isinstance(i, int)\n",
    "    \n",
    "    aranged = np.arange(1, i + 1)\n",
    "    vfunc = np.vectorize(expression)\n",
    "    return vfunc(aranged)\n",
    "    "
   ]
  },
  {
   "cell_type": "code",
   "execution_count": 10,
   "metadata": {},
   "outputs": [
    {
     "data": {
      "text/plain": [
       "array([1, 1, 1, 1, 1, 1, 1, 1, 1, 1])"
      ]
     },
     "execution_count": 10,
     "metadata": {},
     "output_type": "execute_result"
    }
   ],
   "source": [
    "_calculate(10, lambda x:1)"
   ]
  },
  {
   "cell_type": "code",
   "execution_count": 11,
   "metadata": {},
   "outputs": [
    {
     "data": {
      "text/plain": [
       "7"
      ]
     },
     "execution_count": 11,
     "metadata": {},
     "output_type": "execute_result"
    }
   ],
   "source": [
    "l = lambda x,y: x+y\n",
    "l(3,4)"
   ]
  },
  {
   "cell_type": "code",
   "execution_count": 12,
   "metadata": {},
   "outputs": [],
   "source": [
    "def sample(low, high, rows, cols=1):\n",
    "    return np.random.uniform(low=low, high=high, size=(rows, cols))\n"
   ]
  },
  {
   "cell_type": "code",
   "execution_count": 24,
   "metadata": {},
   "outputs": [
    {
     "data": {
      "text/plain": [
       "array([ 4.58470364,  1.56213364,  3.58833613,  1.84109935,  2.37997009,\n        2.50650843,  1.4415501 ,  1.65498351,  4.00316712,  3.13831147])"
      ]
     },
     "execution_count": 24,
     "metadata": {},
     "output_type": "execute_result"
    }
   ],
   "source": [
    "ll = sample(1, 5, 10, 1)\n",
    "\n",
    "ll.flatten()"
   ]
  },
  {
   "cell_type": "code",
   "execution_count": 42,
   "metadata": {},
   "outputs": [],
   "source": [
    "def samplex(lows, highs, rows, cols=1):\n",
    "    return np.matrix([np.random.uniform(low=low, high=high, size=(rows, cols)).flatten() for low, high in zip(lows, highs)])"
   ]
  },
  {
   "cell_type": "code",
   "execution_count": 44,
   "metadata": {},
   "outputs": [
    {
     "data": {
      "text/plain": [
       "matrix([[ 1.33564698,  3.89305176,  3.15090163,  3.66409168,  1.97878413,\n          1.88972705,  1.99074355,  1.70324904,  3.50945737,  2.95808958,\n          2.43055272,  2.43370134,  2.10452725,  1.94067329,  1.86605892,\n          2.30107015,  3.91142462,  2.99707574,  2.45508776,  2.77230824]])"
      ]
     },
     "execution_count": 44,
     "metadata": {},
     "output_type": "execute_result"
    }
   ],
   "source": [
    "samplex(lows=[1,2], highs=[4,5], rows=10, cols=2)"
   ]
  },
  {
   "cell_type": "code",
   "execution_count": 45,
   "metadata": {},
   "outputs": [
    {
     "name": "stdout",
     "output_type": "stream",
     "text": [
      "2 2\n3 3\n"
     ]
    },
    {
     "data": {
      "text/plain": [
       "[None, None]"
      ]
     },
     "execution_count": 45,
     "metadata": {},
     "output_type": "execute_result"
    }
   ],
   "source": [
    "aa = [(2, 2), (3,3)]\n",
    "[print(x,y) for x,y in aa]"
   ]
  },
  {
   "cell_type": "code",
   "execution_count": null,
   "metadata": {},
   "outputs": [],
   "source": [
    "import pandas as pd\n",
    "df = pd.DataFrame(data=samplex(lows=[1,2], highs=[4,5], rows=10, cols=2).T, columns=[\"x_1\", \"x_2\"])\n",
    "df"
   ]
  }
 ],
 "metadata": {
  "kernelspec": {
   "display_name": "Python 2",
   "language": "python",
   "name": "python2"
  },
  "language_info": {
   "codemirror_mode": {
    "name": "ipython",
    "version": 2
   },
   "file_extension": ".py",
   "mimetype": "text/x-python",
   "name": "python",
   "nbconvert_exporter": "python",
   "pygments_lexer": "ipython2",
   "version": "2.7.6"
  }
 },
 "nbformat": 4,
 "nbformat_minor": 0
}
